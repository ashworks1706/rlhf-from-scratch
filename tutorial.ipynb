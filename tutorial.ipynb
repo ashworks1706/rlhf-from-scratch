{
 "cells": [
  {
   "cell_type": "markdown",
   "id": "bffd4d83",
   "metadata": {},
   "source": [
    "# RLHF From Scratch on LLMs\n",
    "\n",
    "In this notebook, I will start with history of RLHF, the importance of RLHF in LLMs, then go into the architectures TRPO, PPO, GRPO and DPO. Each of the technique's explanation will have the math, code and explanations on how it's done, finally in the end we'll experiment these techniques on one of prebuilt LLMs (the llms are not built from scratch, since i've already done that in my [llm-from-scratch repository](https://github.com/ashworks1706/llm-from-scratch)) "
   ]
  },
  {
   "cell_type": "markdown",
   "id": "1b2a4fea",
   "metadata": {},
   "source": [
    "## Brief History of RLHF\n"
   ]
  },
  {
   "cell_type": "markdown",
   "id": "eb8d9008",
   "metadata": {},
   "source": [
    "\n",
    "RLHF emerged around 2017-2018 when researchers at OpenAI developed techniques to incorporate human preferences into reinforcement learning systems. The seminal paper \"Deep Reinforcement Learning from Human Preferences\" by Christiano et al. (2017) introduced the core concept of using human comparisons between pairs of outputs to train a reward model that could guide RL agents toward preferred behaviors. While initially applied to simpler tasks and robotics, the technique remained relatively specialized until recent years. The technique gained mainstream attention in 2022 when OpenAI used it to create ChatGPT from GPT-3.5, dramatically improving output quality by aligning the model with human preferences. This breakthrough demonstrated RLHF's potential to transform raw language model capabilities into systems that better align with human intent and values. Since then, RLHF has become a standard component in developing advanced language models like GPT-4, Claude, and Llama 2, with each iteration refining the techniques to achieve better alignment.\n",
    "\n",
    "#### Why RLHF Matters for LLMs\n",
    "\n",
    "<img src=\"assets/rlhf-vs-finetune.png\" width=300>\n",
    "\n",
    "Large Language Models trained solely on next-token prediction are just models with knowledge, they don't know how to answer properly. You have model trained on shakespear work, great! but how do you make it to answer questions in the way we want (in the way humans talk)? These models optimize for predicting the next token based on training data distribution, which doesn't necessarily correlate with producing helpful, harmless, or honest responses. Traditional LLMs may generate toxic, harmful, or misleading content because they're simply trying to produce statistically likely continuations without understanding human values or preferences. They lack an inherent mechanism to distinguish between content that is statistically probable and content that is actually desirable according to human standards. RLHF addresses these issues by creating a feedback loop where human preferences explicitly guide the model's learning process, steering it toward outputs that humans find more helpful, honest, and aligned with their intent. This alignment process transforms a powerful but directionless prediction engine into a system that can better understand and respect nuanced human values and follow complex instructions in ways that maximize utility for users.\n",
    "\n",
    "\n"
   ]
  },
  {
   "cell_type": "markdown",
   "id": "37a5616c",
   "metadata": {},
   "source": [
    "## Workflow - The Birds Eye View"
   ]
  },
  {
   "cell_type": "markdown",
   "id": "cf4df866",
   "metadata": {},
   "source": [
    "<img src=\"assets/workflow.png\" >\n",
    "\n",
    "\n",
    "Before delving into the complexities of RLHF, it's essential to understand the overal workflow of what actually happens in a typical RLHF based projects. When a large language model is initially trained on vast internet text corpora, it develops remarkable capabilities to predict text and acquire factual knowledge, but this training alone doesn't prepare it to be helpful in specific contexts or respond appropriately to human instructions. Consider a language model trained on extensive educational materials, including university canvas modules, academic papers, and textbooks. This model would possess substantial knowledge about various academic subjects, pedagogical approaches, and educational concepts. However, if asked to \"Explain the concept of photosynthesis to a 10-year-old,\" it might produce a technically accurate but overly complex explanation filled with academic jargon that would confuse rather than enlighten a young student. The model hasn't been optimized to serve as an effective tutor - it simply predicts what text might follow in educational materials. \n",
    "\n",
    "The Supervised Fine-Tuning stage addresses this gap by training the model on demonstrations of desired behavior. For our hypothetical educational assistant, SFT would involve collecting thousands of examples showing how skilled human tutors respond to student questions: simplifying complex concepts, using age-appropriate language, providing relevant examples, checking for understanding, and offering encouragement. These demonstrations are formatted as input-output pairs (prompt and ideal response), and the model is fine-tuned to minimize the difference between its outputs and these human-generated \"gold standard\" responses. Through this process, the model learns the patterns that characterize helpful tutoring: breaking down complex concepts into simpler components, using analogies relevant to younger audiences, avoiding unnecessary technical terms, and adopting a supportive tone. After SFT, when asked to explain photosynthesis to a 10-year-old, the model is much more likely to respond with an explanation involving plants \"eating sunlight\" and \"breathing in carbon dioxide to make food,\" rather than discussing electron transport chains and ATP synthesis. The model hasn't gained new knowledge, but it has learned a new way to present its existing knowledge that better aligns with the specific goal of being an effective tutor for younger students. However, SFT alone has significant limitations. First, it can only learn from the specific examples it's shown, leaving gaps in how to handle the infinite variety of possible user requests. Second, the demonstrations might not cover the full range of desirable behaviors or edge cases where special handling is needed. Third, the quality of the SFT model depends entirely on the quality and consistency of the demonstration data. Finally, there's no mechanism for the model to understand why certain responses are better than others - it simply learns to mimic patterns without a deeper understanding of the preferences that make one response superior. These limitations are precisely what RLHF is designed to address in the subsequent stages of the alignment process.\n",
    "\n",
    "Following Supervised Fine-Tuning, the RLHF workflow progresses to Human Preference Collection - a crucial stage that fundamentally changes how model improvement occurs. In this phase, rather than providing gold-standard demonstrations, human evaluators compare and rank different model responses to the same prompt. For our educational assistant, this might involve presenting evaluators with pairs of explanations for the same scientific concept and asking them which better achieves the goal of teaching a young student. One explanation might be more engaging and use more appropriate analogies, while another might be technically accurate but still too complex. By explicitly choosing the better response, humans provide preference signals that capture nuanced quality distinctions beyond what demonstration data alone can convey. These comparisons generate valuable datasets where each entry contains a prompt and two responses, with a label indicating which response humans preferred. The collection process typically gathers thousands or even millions of such comparative judgments, creating a rich dataset that embodies human preferences about what constitutes a high-quality response across diverse scenarios.\n",
    "\n",
    "The third stage, Reward Model Training, transforms these human preferences into a quantifiable reward function that can guide further optimization. This reward model takes a prompt and response as input and outputs a scalar score representing how well the response aligns with human preferences. Technically, it's trained to predict which of two responses humans would prefer by maximizing the likelihood of the observed preference data. For our educational tutor, the reward model learns to assign higher scores to explanations that successfully simplify complex concepts without sacrificing accuracy, use age-appropriate analogies, maintain an encouraging tone, and check for understanding. This model becomes a computational proxy for human judgment, capable of evaluating millions of potential responses far beyond what human evaluators could manually assess. The quality of this reward model is critical, as it effectively defines what \"good\" means for all subsequent optimization.\n",
    "\n",
    "With a trained reward model in place, the final stage applies Reinforcement Learning techniques to optimize the language model toward maximizing the predicted reward. The most common approach is Proximal Policy Optimization (PPO), which iteratively improves the model by adjusting its parameters to generate responses that receive higher reward scores. However, simply maximizing reward can lead to degenerate outputs that exploit loopholes in the reward model or diverge too far from natural language patterns. To prevent this, the optimization includes a \"KL divergence\" penalty that constrains how much the optimized model can deviate from the SFT model, preserving fluency and knowledge while improving alignment. For our educational tutor, this process might result in a model that maintains scientific accuracy while consistently finding creative, age-appropriate analogies and explanations across a much broader range of topics than were covered in the original demonstration data. The entire RLHF pipeline is often iterative, with new preference data collected from the improved model, leading to refined reward models and further optimization cycles. This continuous feedback loop progressively aligns the language model with human values and preferences, addressing the fundamental limitations of training on prediction alone or even on demonstration data without comparative preference signals.\n"
   ]
  },
  {
   "cell_type": "markdown",
   "id": "79df33e7",
   "metadata": {},
   "source": [
    "## 1. Getting a pretrained LLM"
   ]
  },
  {
   "cell_type": "markdown",
   "id": "b776fee7",
   "metadata": {},
   "source": [
    "<img src=\"assets/workflow1.png\">\n"
   ]
  },
  {
   "cell_type": "markdown",
   "id": "9a55f9c3",
   "metadata": {},
   "source": [
    "Now the first step is to have a fresh pretrained LLM right off the top. We'll be using huggingface library transformers library for our transformer components"
   ]
  },
  {
   "cell_type": "code",
   "execution_count": null,
   "id": "86ef4acd",
   "metadata": {},
   "outputs": [],
   "source": [
    "# %pip install transformers peft datasets tqdm wandb rouge-score\n",
    "# PEFT is a technique to fine tune LLMs without modifying all of their parameters. it's efficient for our tutorial."
   ]
  },
  {
   "cell_type": "code",
   "execution_count": null,
   "id": "aefd2154",
   "metadata": {},
   "outputs": [],
   "source": [
    "# Import from library and setup the model class \n",
    " \n",
    "import torch\n",
    "from transformers import AutoModelForCausalLM, AutoTokenizer\n",
    "from peft import PeftModel, PeftConfig\n",
    "import os\n",
    "\n",
    "class PretrainedLLM:\n",
    "    def __init__(self, model_name=\"facebook/opt-350m\", device=None):\n",
    "        \"\"\"\n",
    "        Initializing a (No SFT RLHF) pretrained language model for RLHF experiment\n",
    "        \n",
    "        Args:\n",
    "            model_name: HuggingFace model identifier (default: OPT-350M, a relatively small but capable model)\n",
    "            device: Computing device (will auto-detect if None)\n",
    "        \"\"\"\n",
    "        self.model_name = model_name\n",
    "        \n",
    "        # this code is just for detecting if you have Nvidia CUDA driver or not\n",
    "        if device is None:\n",
    "            self.device = \"cuda\" if torch.cuda.is_available() else \"cpu\"\n",
    "        else:\n",
    "            self.device = device\n",
    "            \n",
    "        print(f\"Loading {model_name} on {self.device}...\")\n",
    "        \n",
    "        # Load model and tokenizer (for full guide on implementing llm from scratch check out https://github.com/ashworks1706/llm-from-scratch\n",
    "        self.tokenizer = AutoTokenizer.from_pretrained(model_name) \n",
    "        self.model = AutoModelForCausalLM.from_pretrained(\n",
    "            model_name, \n",
    "            torch_dtype=torch.float16 if self.device == \"cuda\" else torch.float32,\n",
    "            low_cpu_mem_usage=True\n",
    "        )\n",
    "        \n",
    "        # distributed training for better GPU utilization\n",
    "        self.model.to(self.device)\n",
    "        print(f\"Model loaded successfully with {sum(p.numel() for p in self.model.parameters())/1e6:.1f}M parameters\")\n",
    "        \n",
    "    def generate(self, prompt, max_new_tokens=100, temperature=0.7, top_p=0.9):\n",
    "        \"\"\"\n",
    "        Generate text from the model given a prompt (no RLHF)\n",
    "        \n",
    "        Args:\n",
    "            prompt: Input text to generate from\n",
    "            max_new_tokens: Maximum number of tokens to generate\n",
    "            temperature: Sampling temperature (lower = more deterministic)\n",
    "            top_p: Nucleus sampling parameter (lower = more focused)\n",
    "            \n",
    "        Returns:\n",
    "            Generated text as string\n",
    "        \"\"\"\n",
    "        inputs = self.tokenizer(prompt, return_tensors=\"pt\").to(self.device)\n",
    "        \n",
    "        # Generate with sampling, no fancy tuning required\n",
    "        with torch.no_grad():\n",
    "            outputs = self.model.generate(\n",
    "                **inputs,\n",
    "                max_new_tokens=max_new_tokens,\n",
    "                temperature=temperature,\n",
    "                top_p=top_p,\n",
    "                do_sample=True\n",
    "            )\n",
    "        \n",
    "        # Decode and remove the prompt from the generated text\n",
    "        full_text = self.tokenizer.decode(outputs[0], skip_special_tokens=True)\n",
    "        generated_text = full_text[len(self.tokenizer.decode(inputs.input_ids[0], skip_special_tokens=True)):]\n",
    "        \n",
    "        return generated_text\n",
    "    \n",
    "    def save_checkpoint(self, path):\n",
    "        \"\"\"Save model checkpoint to the specified path\"\"\"\n",
    "        self.model.save_pretrained(path)\n",
    "        self.tokenizer.save_pretrained(path)\n",
    "        print(f\"Model saved to {path}\")\n",
    "        \n",
    "    def load_adapter(self, adapter_path):\n",
    "        \"\"\"Load a PEFT adapter for efficient fine-tuning\"\"\"\n",
    "        self.model = PeftModel.from_pretrained(\n",
    "            self.model,\n",
    "            adapter_path,\n",
    "            torch_dtype=torch.float16 if self.device == \"cuda\" else torch.float32\n",
    "        )\n",
    "        print(f\"Loaded adapter from {adapter_path}\")\n",
    "\n"
   ]
  },
  {
   "cell_type": "code",
   "execution_count": null,
   "id": "1466aa6f",
   "metadata": {},
   "outputs": [],
   "source": [
    "# Example usage\n",
    "if __name__ == \"__main__\":\n",
    "    # Initialize with a small model for experimentation\n",
    "    llm = PretrainedLLM(model_name=\"facebook/opt-350m\")\n",
    "    \n",
    "    # Test generation\n",
    "    prompt = \"Explain quantum computing to a 10-year-old:\"\n",
    "    print(f\"(No SFT RLHF) Prompt: {prompt}\")\n",
    "    print(f\"(NO SFT RLHF) Response: {llm.generate(prompt, max_new_tokens=150)}\")"
   ]
  },
  {
   "cell_type": "markdown",
   "id": "f6e8e849",
   "metadata": {},
   "source": [
    "---\n",
    "(No SFT RLHF) *Prompt*: Explain quantum computing to a 10-year-old:\n",
    "\n",
    "(No SFT RLHF) *Response*: Quantum computing is a type of computation that harnesses the collective properties of quantum states, such as superposition, interference, and entanglement, to perform calculations. The basic unit of quantum computation is the quantum bit or qubit. Unlike classical bits, which can only be in states of 0 or 1, qubits can exist in a superposition of states, meaning they can represent both 0 and 1 simultaneously. This property allows quantum computers to process a vast number of possibilities simultaneously.\n",
    "\n",
    "The field emerged from quantum mechanics, which is a fundamental theory in physics that provides a description of the physical properties of nature at the atomic and subatomic scales. Quantum computing leverages quantum mechanical phenomena to perform operations on data. This can potentially solve certain problems much faster than classical computers.\n",
    "\n",
    "For instance, Shor's algorithm demonstrates that a quantum computer can factor large integers exponentially faster than the best known algorithm running on a classical computer. This has significant implications for cryptography systems that rely on the difficulty of factoring large numbers.\n",
    "\n",
    "---"
   ]
  },
  {
   "cell_type": "markdown",
   "id": "650836aa",
   "metadata": {},
   "source": [
    "In this example, the user anticipates the model to give explanation releavant to a 10 year old. Instead, the model produces a very technical response with an academic tone without any examples. A better response could have been (with SFT):"
   ]
  },
  {
   "cell_type": "markdown",
   "id": "3948df58",
   "metadata": {},
   "source": [
    "---\n",
    "\n",
    "(No RLHF) *Prompt*: Explain quantum computing to a 10-year-old:\n",
    "\n",
    "(No RLHF) *Response*: Imagine your regular computer is like playing a board game where you can only be on one space at a time. You have to move step by step to get to the end.\n",
    "\n",
    "Quantum computers are like magical game pieces that can be in lots of different spaces at the same time! They use special bits called \"qubits\" instead of regular computer bits.\n",
    "\n",
    "Regular computer bits are like light switches - they can only be ON or OFF. But qubits are special because they can be ON and OFF at the same time, kind of like how a spinning coin is neither heads nor tails until it stops.\n",
    "\n",
    "This special power lets quantum computers solve some really tricky puzzles much faster than regular computers. Scientists are excited about them because they might help us discover new medicines, understand weather better, and solve problems that would take regular computers thousands of years!\n",
    "\n",
    "The quantum computers we have today are still small and make mistakes, but engineers are working hard to make them bigger and better.\n",
    "\n",
    "---\n"
   ]
  },
  {
   "cell_type": "markdown",
   "id": "36869ed0",
   "metadata": {},
   "source": [
    "Here as you can see that the SFT model has learned to use simple language and analogies, breakdown complex concepts, avoid technical jargon like superposition and slightly adatpive to the age level of the audience"
   ]
  },
  {
   "cell_type": "markdown",
   "id": "241dde7a",
   "metadata": {},
   "source": [
    "This is our goal response with SFT and RLHF :"
   ]
  },
  {
   "cell_type": "markdown",
   "id": "43a685a3",
   "metadata": {},
   "source": [
    "---\n",
    "\n",
    "(SFT RLHF) *Prompt*: Explain quantum computing to a 10-year-old:\n",
    "\n",
    "(SFT RLHF) *Response*: Hey there! Imagine you have a super cool magic coin. When you flip a normal coin, it lands on either heads or tails, right? But this magic coin can spin and be a little bit heads and a little bit tails at the same time while it's spinning!\n",
    "\n",
    "Quantum computers use special things called \"qubits\" that work like these magic coins. While normal computers use regular bits that can only be 0 OR 1 (like a coin that's only heads or tails), quantum computers use qubits that can be 0 AND 1 at the same time (like our spinning magic coin).\n",
    "\n",
    "Why is this so awesome? Well, imagine you lost your favorite toy somewhere in your house. A normal computer would have to look in each room one by one. But a quantum computer is like having a bunch of friends who can check all the rooms at the exact same time! That makes solving certain problems MUCH faster.\n",
    "\n",
    "Scientists are still learning how to build better quantum computers because they're tricky to make. The qubits are super sensitive - kind of like trying to keep a hundred coins spinning without letting any of them fall over!\n",
    "\n",
    "Does that make sense? What do you think would be the coolest thing to use a quantum computer for?\n",
    "\n",
    "---\n"
   ]
  },
  {
   "cell_type": "markdown",
   "id": "33db3321",
   "metadata": {},
   "source": [
    "in this example, we can clearly see the difference, it's more conversational, user friendly and uses analogies to make explanation easier like a human"
   ]
  },
  {
   "cell_type": "markdown",
   "id": "17f0a8fa",
   "metadata": {},
   "source": [
    "## 2. Supervised Fine Tuning"
   ]
  },
  {
   "cell_type": "markdown",
   "id": "da2ba3d2",
   "metadata": {},
   "source": [
    "<img src=\"assets/workflow2.png\" >\n"
   ]
  },
  {
   "cell_type": "markdown",
   "id": "eb69635b",
   "metadata": {},
   "source": [
    "### Understanding the difference between SFT and RLHF\n",
    "\n"
   ]
  },
  {
   "cell_type": "markdown",
   "id": "126eac5b",
   "metadata": {},
   "source": [
    "But what if I just keep model with SFT and not RLHF? Or what if I just skip to RLHF instead of SFT?\n",
    "\n",
    "These are excellent questions that get to the heart of why the complete RLHF pipeline exists. Supervised Fine-Tuning (SFT) and Reinforcement Learning from Human Feedback (RLHF) serve different but complementary roles in aligning language models with human expectations and preferences.\n",
    "\n",
    "If you only implement SFT without RLHF, you'll have a model that can follow basic patterns demonstrated in your training examples, but it will struggle to generalize beyond them. As we saw in our quantum computing example, SFT can teach a model to use simpler language and appropriate analogies, but it's limited by the specific demonstrations provided. The model learns to mimic patterns without developing a deeper understanding of why certain responses are better than others. When faced with novel queries or edge cases not covered in the training data, an SFT-only model often fails to maintain the same quality of responses. Additionally, SFT can only optimize for whatever patterns exist in your demonstration data - if that data contains subtle biases or inconsistencies, those will be faithfully reproduced by the model.\n",
    "\n",
    "Conversely, if you attempt to skip SFT and go directly to RLHF, you're likely to encounter significant challenges. RLHF works by refining an already somewhat aligned model through preference optimization. Starting with a raw pretrained model would make this process extremely inefficient and potentially unstable. The preference learning and reinforcement stages need a reasonable starting point where the model can already produce somewhat appropriate responses that humans can meaningfully compare and rank. Without SFT, the initial responses might be so far from helpful that the preference signals become too noisy or the optimization process becomes prohibitively difficult. It would be like trying to teach advanced painting techniques to someone who hasn't yet learned to hold a brush - the feedback would be overwhelming and difficult to incorporate.\n",
    "\n",
    "The full RLHF pipeline with SFT followed by preference learning and reinforcement creates a progressively refined alignment. SFT provides the foundation by teaching the model basic response patterns and formats through demonstration. RLHF then builds on this foundation by teaching the model to distinguish between good and better responses through comparative feedback, allowing it to generalize beyond specific examples to broader human preferences. As we observed in our examples, the SFT model improved basic comprehensibility and appropriateness, while the RLHF model further enhanced engagement, conversational tone, and subtle aspects of helpfulness that are difficult to capture through demonstrations alone. This complementary relationship explains why major AI systems like ChatGPT and Claude use both techniques in sequence rather than choosing one over the other. The complete alignment process transforms raw predictive power into carefully balanced helpful assistance that respects complex human values and preferences."
   ]
  },
  {
   "cell_type": "markdown",
   "id": "eaa793cf",
   "metadata": {},
   "source": [
    "### Components of SFT"
   ]
  },
  {
   "cell_type": "markdown",
   "id": "2c8b7d30",
   "metadata": {},
   "source": [
    "To perform Supervised Fine-Tuning (SFT) on our pretrained LLM, we need high-quality demonstration data consisting of prompt-response pairs showing the desired behavior, typically thousands of examples created by experts. We also need a data preprocessing pipeline to format this data consistently, including tokenization and special tokens to distinguish between prompts and responses. SFT requires careful configuration of hyperparameters like learning rate, batch size, and optimization methods, with techniques such as warmup and decay schedules for training stability. Rather than fine-tuning all parameters, we'll use PEFT methods like LoRA that add small trainable modules while keeping most of the model frozen, making training more efficient. We'll implement a training loop for forward passes, loss calculation, backpropagation, and parameter updates, along with evaluation metrics such as perplexity and ROUGE scores to assess performance. Finally, our existing PretrainedLLM class already supports checkpointing and adapter saving, which we'll use to periodically save the model state during training. This SFT process will transform our raw model into one that can follow instructions and communicate appropriately, serving as the foundation for subsequent RLHF stages.\n",
    "\n",
    "High-quality demonstration data: Thousands of prompt-response pairs created by experts\n",
    "\n",
    "Data preprocessing pipeline: Consistent formatting, tokenization, and special tokens\n",
    "\n",
    "Fine-tuning configuration: Learning rate, batch size, warmup/decay schedules\n",
    "\n",
    "PEFT implementation: Using LoRA to add trainable modules while freezing most parameters\n",
    "\n",
    "Training loop: Forward passes, loss calculation, backpropagation, parameter updates\n",
    "\n",
    "Evaluation metrics: Perplexity, ROUGE scores to assess performance\n",
    "\n",
    "Checkpointing: Saving model state during training using our existing functionality\n"
   ]
  },
  {
   "cell_type": "markdown",
   "id": "1283179e",
   "metadata": {},
   "source": [
    "For dataset, we're using the Databricks Dolly-15k dataset, which is a high-quality instruction-following dataset specifically designed for fine-tuning language models. This dataset contains 15,000 human-generated prompt/response pairs across various instruction categories including creative writing, classification, information extraction, open QA, brainstorming, and summarization. \n",
    "\n",
    "The Dolly dataset was created by Databricks employees who manually wrote both the prompts and high-quality responses, making it particularly valuable for instruction-tuning. Unlike some other datasets which may be generated or filtered from existing sources, Dolly's samples are purpose-built for teaching models to follow instructions in a helpful manner."
   ]
  },
  {
   "cell_type": "code",
   "execution_count": null,
   "id": "50206b11",
   "metadata": {},
   "outputs": [],
   "source": [
    "import torch\n",
    "from datasets import load_dataset\n",
    "from transformers import (\n",
    "    AutoModelForCausalLM,\n",
    "    AutoTokenizer, \n",
    "    TrainingArguments, \n",
    "    Trainer,\n",
    "    DataCollatorForLanguageModeling\n",
    ")\n",
    "from peft import (\n",
    "    get_peft_model,\n",
    "    LoraConfig,\n",
    "    TaskType,\n",
    "    prepare_model_for_kbit_training\n",
    ")\n",
    "import os\n",
    "import numpy as np\n",
    "from tqdm import tqdm\n",
    "\n",
    "class SupervisedFineTuner:\n",
    "    def __init__(self, base_model, dataset_name=\"databricks/dolly-15k\", max_seq_length=512):\n",
    "        \"\"\"\n",
    "        Initializing SFT framework\n",
    "        \n",
    "        Args:\n",
    "            base_model: The PretrainedLLM instance to fine-tune\n",
    "            dataset_name: HuggingFace dataset identifier containing instruction/response pairs\n",
    "            max_seq_length: Maximum sequence length for inputs\n",
    "        \"\"\"\n",
    "        self.llm = base_model\n",
    "        self.tokenizer = base_model.tokenizer\n",
    "        self.model = base_model.model\n",
    "        self.device = base_model.device\n",
    "        self.max_seq_length = max_seq_length # max length of sequences that model will process\n",
    "        self.dataset_name = dataset_name\n",
    "        \n",
    "        # If tokenizer doesn't have padding token, set it to eos token\n",
    "        if self.tokenizer.pad_token is None:\n",
    "            self.tokenizer.pad_token = self.tokenizer.eos_token\n",
    "            self.tokenizer.pad_token_id = self.tokenizer.eos_token_id\n",
    "            \n",
    "        print(f\"Loading dataset {dataset_name}...\")\n",
    "        self.raw_dataset = load_dataset(dataset_name)\n",
    "        print(f\"Dataset loaded with {len(self.raw_dataset['train'])} training examples\")\n",
    "        \n",
    "    def prepare_data(self):\n",
    "        \"\"\"Process the dataset into the format needed for instruction fine-tuning\"\"\"\n",
    "        \n",
    "        def format_instruction(example):\n",
    "            \"\"\"Format an example into a prompt-response pair with special tokens\"\"\"\n",
    "            # Different datasets have different column names, they might call different call different labels\n",
    "            if 'instruction' in example and 'response' in example:\n",
    "                prompt = example['instruction']\n",
    "                response = example['response']\n",
    "            elif 'prompt' in example and 'completion' in example:\n",
    "                prompt = example['prompt']\n",
    "                response = example['completion']\n",
    "            else:\n",
    "                # Fallback for other dataset formats\n",
    "                prompt = str(example['input']) if 'input' in example else \"\"\n",
    "                response = str(example['output']) if 'output' in example else \"\"\n",
    "            \n",
    "            # Format with special tokens\n",
    "            formatted_text = f\"User: {prompt.strip()}\\n\\nAssistant: {response.strip()}\"\n",
    "            return {\"formatted_text\": formatted_text}\n",
    "        \n",
    "        print(\"Formatting dataset...\")\n",
    "        self.processed_dataset = self.raw_dataset.map(format_instruction)\n",
    "        \n",
    "        def tokenize_function(examples):\n",
    "            \"\"\"Tokenize the examples and prepare for training\"\"\"\n",
    "            texts = examples[\"formatted_text\"]\n",
    "            \n",
    "            # Tokenize with padding and truncation\n",
    "            tokenized = self.tokenizer(\n",
    "                texts,\n",
    "                padding=\"max_length\",\n",
    "                truncation=True,\n",
    "                max_length=self.max_seq_length,\n",
    "                return_tensors=\"pt\"\n",
    "            )\n",
    "            \n",
    "            # Create labels (for causal LM, labels are the same as input_ids)\n",
    "            tokenized[\"labels\"] = tokenized[\"input_ids\"].clone()\n",
    "            \n",
    "            # Mask padding tokens in the labels to -100 so they're not included in loss\n",
    "            tokenized[\"labels\"][tokenized[\"input_ids\"] == self.tokenizer.pad_token_id] = -100\n",
    "            \n",
    "            return tokenized\n",
    "        \n",
    "        print(\"Tokenizing dataset...\")\n",
    "        self.tokenized_dataset = self.processed_dataset.map(\n",
    "            tokenize_function,\n",
    "            batched=True,\n",
    "            remove_columns=self.processed_dataset[\"train\"].column_names\n",
    "        )\n",
    "        \n",
    "        return self.tokenized_dataset\n",
    "    \n",
    "    def setup_peft(self, r=16, lora_alpha=32, lora_dropout=0.05):\n",
    "        \"\"\"Set up Parameter-Efficient Fine-Tuning using LoRA\"\"\"\n",
    "        \n",
    "        print(\"Setting up LoRA for efficient fine-tuning...\")\n",
    "        # Configure LoRA\n",
    "        peft_config = LoraConfig(\n",
    "            task_type=TaskType.CAUSAL_LM,\n",
    "            r=r,  # Rank of the update matrices\n",
    "            lora_alpha=lora_alpha,  # Scaling factor\n",
    "            lora_dropout=lora_dropout,\n",
    "            target_modules=[\"q_proj\", \"v_proj\"],  # Which modules to apply LoRA to\n",
    "            bias=\"none\",\n",
    "            inference_mode=False\n",
    "        )\n",
    "        \n",
    "        # Prepare model for training\n",
    "        self.model = prepare_model_for_kbit_training(self.model)\n",
    "        \n",
    "        # Apply LoRA\n",
    "        self.model = get_peft_model(self.model, peft_config)\n",
    "        \n",
    "        # Display trainable parameters\n",
    "        trainable_params = sum(p.numel() for p in self.model.parameters() if p.requires_grad)\n",
    "        total_params = sum(p.numel() for p in self.model.parameters())\n",
    "        print(f\"Trainable parameters: {trainable_params:,} ({trainable_params/total_params:.2%} of total)\")\n",
    "        \n",
    "        return self.model\n",
    "    \n",
    "    def train(self, output_dir=\"sft_model\", num_epochs=3, batch_size=8, learning_rate=2e-5):\n",
    "        \"\"\"Train the model using the prepared dataset\"\"\"\n",
    "        \n",
    "        print(\"Setting up training arguments...\")\n",
    "        # Training arguments\n",
    "        training_args = TrainingArguments(\n",
    "            output_dir=output_dir,                           # Directory to save model checkpoints\n",
    "            num_train_epochs=num_epochs,                     # Number of times to iterate through the dataset\n",
    "            per_device_train_batch_size=batch_size,          # Batch size per GPU/CPU for training\n",
    "            gradient_accumulation_steps=4,                   # Number of updates steps to accumulate gradients for\n",
    "            warmup_ratio=0.1,                               # Percentage of steps for learning rate warmup\n",
    "            weight_decay=0.01,                              # L2 regularization weight\n",
    "            learning_rate=learning_rate,                     # Initial learning rate\n",
    "            logging_steps=10,                               # How often to log training metrics\n",
    "            save_steps=200,                                 # How often to save model checkpoints\n",
    "            save_total_limit=3,                             # Maximum number of checkpoints to keep\n",
    "            fp16=True if self.device == \"cuda\" else False,   # Whether to use 16-bit floating point precision\n",
    "            report_to=\"none\"                                # Disable external reporting services\n",
    "        )\n",
    "        \n",
    "        # Create data collator\n",
    "        data_collator = DataCollatorForLanguageModeling(\n",
    "            tokenizer=self.tokenizer,\n",
    "            mlm=False  # We're doing causal LM, not masked LM\n",
    "        )\n",
    "        \n",
    "        print(\"Creating trainer...\")\n",
    "        # Initialize the trainer\n",
    "        trainer = Trainer(\n",
    "            model=self.model,\n",
    "            args=training_args,\n",
    "            train_dataset=self.tokenized_dataset[\"train\"],\n",
    "            eval_dataset=self.tokenized_dataset[\"test\"] if \"test\" in self.tokenized_dataset else None,\n",
    "            data_collator=data_collator\n",
    "        )\n",
    "        \n",
    "        print(\"Starting training...\")\n",
    "        # Finally Train the model\n",
    "        trainer.train()\n",
    "        \n",
    "        # Save the adapter\n",
    "        adapter_path = os.path.join(output_dir, \"adapter\")\n",
    "        self.model.save_pretrained(adapter_path) # save the model to the path\n",
    "        self.tokenizer.save_pretrained(adapter_path)\n",
    "        print(f\"Saved LoRA adapter to {adapter_path}\")\n",
    "        \n",
    "        return adapter_path\n",
    "    \n",
    "    def evaluate(self, evaluation_prompts):\n",
    "        \"\"\"Evaluate the model on a list of prompts\"\"\"\n",
    "        print(\"Evaluating model...\")\n",
    "        \n",
    "        for prompt in evaluation_prompts:\n",
    "            print(f\"Prompt: {prompt}\")\n",
    "            \n",
    "            # Generate with the original model\n",
    "            base_response = self.llm.generate(prompt, max_new_tokens=200)\n",
    "            print(f\"Base model response: {base_response}\\n\")\n",
    "            \n",
    "            # Format prompt for the fine-tuned model\n",
    "            formatted_prompt = f\"User: {prompt}\\n\\nAssistant: \"\n",
    "            inputs = self.tokenizer(formatted_prompt, return_tensors=\"pt\").to(self.device)\n",
    "            \n",
    "            # Generate with the fine-tuned model\n",
    "            with torch.no_grad():\n",
    "                outputs = self.model.generate(\n",
    "                    **inputs,\n",
    "                    max_new_tokens=200,\n",
    "                    temperature=0.7,\n",
    "                    top_p=0.9,\n",
    "                    do_sample=True\n",
    "                )\n",
    "                \n",
    "            # Decode and display\n",
    "            full_text = self.tokenizer.decode(outputs[0], skip_special_tokens=True)\n",
    "            sft_response = full_text[len(formatted_prompt):]\n",
    "            print(f\"SFT model response: {sft_response}\\n\")\n",
    "            print(\"-\" * 50)\n",
    "\n"
   ]
  },
  {
   "cell_type": "markdown",
   "id": "a6c49e95",
   "metadata": {},
   "source": [
    "As we can see, we have first a base model (our pretrained LLM), a dataset name, and a maximum sequence length parameter that controls how much text the model processes at once. It handles tokenizer configuration by ensuring the padding token is properly set, which is crucial for consistent batch processing during training. Next, the prepare_data method loads the Dolly-15k dataset and transforms each example by extracting the prompt-response pairs and formatting them with special tokens that help the model distinguish between user input and expected output. The formatting includes adding \"User:\" and \"Assistant:\" prefixes that teach the model the proper conversation structure. After formatting, it tokenizes all examples, handling padding and truncation to ensure consistent lengths, and sets up special label handling where padding tokens are masked from loss calculations.\n",
    "\n",
    "The setup_peft method is particularly innovative, implementing Parameter-Efficient Fine-Tuning using Low-Rank Adaptation (LoRA). Rather than updating all model weights—which would be computationally expensive—LoRA adds small trainable matrices to key attention components while keeping most parameters frozen. The method configures LoRA with appropriate rank and scaling parameters, then applies it to the query and value projection matrices of the transformer architecture. This approach dramatically reduces the number of trainable parameters to often less than 1% of the total, making fine-tuning feasible on hardware. At the core of LoRA's efficiency is its mathematical insight about weight updates. It first decomposes weight updates into products of two smaller matrices by leveraging the observation that during fine-tuning, the weight updates often have a low \"intrinsic rank\" - meaning they can be approximated by low-rank matrices without significant loss of information. For example, in a transformer model where a weight matrix W might be `768×768` (containing `589,824` parameters), LoRA replaces the full update with two matrices B `(768×16)` and A `(16×768)`, requiring only `24,576` parameters - a 96% reduction. These matrices are initialized with careful scaling: B starts with random Gaussian values while A begins at zero, ensuring training begins from the original model's behavior. The implementation in the code uses `r=16` for the rank hyperparameter, which determines this compression ratio. The `lora_alpha=32` parameter controls scaling during inference, effectively determining how strongly the adaptation affects the original weights. The `target_modules=[\"q_proj\", \"v_proj\"]` parameter specifically targets the query and value projection matrices in the attention mechanism, which are particularly influential for language understanding and generation while leaving other components untouched.\n",
    "\n",
    "The train method handles the actual training process by configuring optimization parameters including learning rate, batch size, and gradient accumulation steps. It sets up a training pipeline with appropriate arguments for supervised learning, including warmup schedules and weight decay for regularization. After training completes, it saves just the LoRA adapter rather than the full model, making the fine-tuned version extremely portable at just a fraction of the full model size. Finally, the evaluation method provides a convenient way to compare the base model against the fine-tuned version using the same prompts. "
   ]
  },
  {
   "cell_type": "code",
   "execution_count": null,
   "id": "0f6c99bc",
   "metadata": {},
   "outputs": [],
   "source": [
    "if __name__ == \"__main__\":\n",
    "    \n",
    "    # Initialize base model\n",
    "    base_llm = PretrainedLLM(model_name=\"facebook/opt-350m\")\n",
    "    \n",
    "    # Create SFT trainer\n",
    "    sft = SupervisedFineTuner(base_llm, dataset_name=\"databricks/dolly-15k\")\n",
    "    \n",
    "    # Prepare data\n",
    "    processed_data = sft.prepare_data()\n",
    "    \n",
    "    # Setup PEFT\n",
    "    peft_model = sft.setup_peft()\n",
    "    \n",
    "    # Train the model\n",
    "    adapter_path = sft.train(output_dir=\"sft_model\", num_epochs=1)  # Reduced for demo\n",
    "    \n",
    "    # Load the adapter into the base model\n",
    "    base_llm.load_adapter(adapter_path)\n",
    "    \n",
    "    # Test the model\n",
    "    evaluation_prompts = [\n",
    "        \"Explain quantum computing to a 10-year-old:\",\n",
    "        \"Write a short story about a robot learning to feel emotions:\",\n",
    "        \"How do I bake a chocolate cake?\"\n",
    "    ]\n",
    "    \n",
    "    sft.evaluate(evaluation_prompts)"
   ]
  },
  {
   "cell_type": "markdown",
   "id": "6a23542e",
   "metadata": {},
   "source": [
    "EXAMPLE"
   ]
  },
  {
   "cell_type": "markdown",
   "id": "f31ea9ed",
   "metadata": {},
   "source": [
    "and there we go! we have a successfully supervised fine tuned llm!"
   ]
  },
  {
   "cell_type": "markdown",
   "id": "12a89dba",
   "metadata": {},
   "source": [
    "## 3. Reinforcement Learning with Human Feedback"
   ]
  },
  {
   "cell_type": "markdown",
   "id": "9883ebdc",
   "metadata": {},
   "source": [
    "<img src=\"assets/workflow3.png\" >\n"
   ]
  },
  {
   "cell_type": "markdown",
   "id": "465bd174",
   "metadata": {},
   "source": [
    "Cool! Now that we have a SFT tuned model, we can now start getting into actual RLHF Stuff. But"
   ]
  }
 ],
 "metadata": {
  "kernelspec": {
   "display_name": "3.8.18",
   "language": "python",
   "name": "python3"
  },
  "language_info": {
   "codemirror_mode": {
    "name": "ipython",
    "version": 3
   },
   "file_extension": ".py",
   "mimetype": "text/x-python",
   "name": "python",
   "nbconvert_exporter": "python",
   "pygments_lexer": "ipython3",
   "version": "3.8.18"
  }
 },
 "nbformat": 4,
 "nbformat_minor": 5
}
